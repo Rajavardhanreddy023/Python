3.It should display the product of the three values except when one of the integer value is 7. In
 that case, 7 should not be included in the product and the values to its left also should not be
 included. If there is only one value to be considered, display that value itself. If no value can be
 included in the product, display-1
 Note: assume that if 7 is one of the positive integer value then it will occur only once
 sample input                                             expected output

 1,5,3                                                                       15
 
 3,7,8                                                         8
 
 7,4,3                                                        12
 
 1,5,7                                                        -1

N = 3
L1 = []
for i in range(0, N):
    k = int(input("Enter a number: "))
    L1.append(k)
print("Input numbers:", L1)
if 7 in L1:
    index = L1.index(7)
    if index == 0:
        print(-1)
    elif index == 1:
        print(L1[2])
    elif index == 2:
        print(-1)
else:
    product = 1
    for num in L1:
        product *= num
    print(product)
